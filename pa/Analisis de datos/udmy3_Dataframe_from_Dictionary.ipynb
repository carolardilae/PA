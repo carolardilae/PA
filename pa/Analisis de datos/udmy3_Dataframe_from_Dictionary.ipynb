{
  "cells": [
    {
      "cell_type": "code",
      "execution_count": null,
      "id": "5b35e99b",
      "metadata": {
        "id": "5b35e99b"
      },
      "outputs": [],
      "source": [
        "import pandas as pd\n",
        "# Importa la biblioteca Pandas y la asigna al alias 'pd'."
      ]
    },
    {
      "cell_type": "code",
      "execution_count": null,
      "id": "c79e6374",
      "metadata": {
        "id": "c79e6374"
      },
      "outputs": [],
      "source": [
        "data = {\"name\": [\"Sally\", \"Jhon\", \"Kim\"], \"age\": [4, 6 ,7], \"gender\": [\"female\", \"male\", \"male\"]}\n",
        "# Crea un diccionario llamado 'data' con claves 'name', 'age' y 'gender', y listas de valores correspondientes.\n"
      ]
    },
    {
      "cell_type": "code",
      "execution_count": null,
      "id": "303f1531",
      "metadata": {
        "id": "303f1531",
        "outputId": "91e2c890-1cf6-4bf5-e9df-0d6668d9db61"
      },
      "outputs": [
        {
          "data": {
            "text/html": [
              "<div>\n",
              "<style scoped>\n",
              "    .dataframe tbody tr th:only-of-type {\n",
              "        vertical-align: middle;\n",
              "    }\n",
              "\n",
              "    .dataframe tbody tr th {\n",
              "        vertical-align: top;\n",
              "    }\n",
              "\n",
              "    .dataframe thead th {\n",
              "        text-align: right;\n",
              "    }\n",
              "</style>\n",
              "<table border=\"1\" class=\"dataframe\">\n",
              "  <thead>\n",
              "    <tr style=\"text-align: right;\">\n",
              "      <th></th>\n",
              "      <th>name</th>\n",
              "      <th>age</th>\n",
              "      <th>gender</th>\n",
              "    </tr>\n",
              "  </thead>\n",
              "  <tbody>\n",
              "    <tr>\n",
              "      <th>0</th>\n",
              "      <td>Sally</td>\n",
              "      <td>4</td>\n",
              "      <td>female</td>\n",
              "    </tr>\n",
              "    <tr>\n",
              "      <th>1</th>\n",
              "      <td>Jhon</td>\n",
              "      <td>6</td>\n",
              "      <td>male</td>\n",
              "    </tr>\n",
              "    <tr>\n",
              "      <th>2</th>\n",
              "      <td>Kim</td>\n",
              "      <td>7</td>\n",
              "      <td>male</td>\n",
              "    </tr>\n",
              "  </tbody>\n",
              "</table>\n",
              "</div>"
            ],
            "text/plain": [
              "    name  age  gender\n",
              "0  Sally    4  female\n",
              "1   Jhon    6    male\n",
              "2    Kim    7    male"
            ]
          },
          "execution_count": 3,
          "metadata": {},
          "output_type": "execute_result"
        }
      ],
      "source": [
        "pd.DataFrame(data)\n",
        "# Convierte el diccionario 'data' en un DataFrame de Pandas con columnas 'name', 'age' y 'gender'."
      ]
    },
    {
      "cell_type": "code",
      "execution_count": null,
      "id": "9354aa40",
      "metadata": {
        "id": "9354aa40",
        "outputId": "c6e523b5-5a8d-45d1-dcfa-ab227e7c82ef"
      },
      "outputs": [
        {
          "data": {
            "text/html": [
              "<div>\n",
              "<style scoped>\n",
              "    .dataframe tbody tr th:only-of-type {\n",
              "        vertical-align: middle;\n",
              "    }\n",
              "\n",
              "    .dataframe tbody tr th {\n",
              "        vertical-align: top;\n",
              "    }\n",
              "\n",
              "    .dataframe thead th {\n",
              "        text-align: right;\n",
              "    }\n",
              "</style>\n",
              "<table border=\"1\" class=\"dataframe\">\n",
              "  <thead>\n",
              "    <tr style=\"text-align: right;\">\n",
              "      <th></th>\n",
              "      <th>name</th>\n",
              "      <th>age</th>\n",
              "      <th>gender</th>\n",
              "    </tr>\n",
              "  </thead>\n",
              "  <tbody>\n",
              "    <tr>\n",
              "      <th>Kid1</th>\n",
              "      <td>Sally</td>\n",
              "      <td>4</td>\n",
              "      <td>female</td>\n",
              "    </tr>\n",
              "    <tr>\n",
              "      <th>Kid2</th>\n",
              "      <td>Jhon</td>\n",
              "      <td>6</td>\n",
              "      <td>male</td>\n",
              "    </tr>\n",
              "    <tr>\n",
              "      <th>Kid3</th>\n",
              "      <td>Kim</td>\n",
              "      <td>7</td>\n",
              "      <td>male</td>\n",
              "    </tr>\n",
              "  </tbody>\n",
              "</table>\n",
              "</div>"
            ],
            "text/plain": [
              "       name  age  gender\n",
              "Kid1  Sally    4  female\n",
              "Kid2   Jhon    6    male\n",
              "Kid3    Kim    7    male"
            ]
          },
          "execution_count": 4,
          "metadata": {},
          "output_type": "execute_result"
        }
      ],
      "source": [
        "pd.DataFrame(data, index = [\"Kid1\", \"Kid2\", \"Kid3\"])\n",
        "# Convierte el diccionario 'data' en un DataFrame con filas indexadas como 'Kid1', 'Kid2' y 'Kid3'.\n"
      ]
    },
    {
      "cell_type": "code",
      "execution_count": null,
      "id": "8dcd661b",
      "metadata": {
        "id": "8dcd661b"
      },
      "outputs": [],
      "source": []
    }
  ],
  "metadata": {
    "kernelspec": {
      "display_name": "Python 3 (ipykernel)",
      "language": "python",
      "name": "python3"
    },
    "language_info": {
      "codemirror_mode": {
        "name": "ipython",
        "version": 3
      },
      "file_extension": ".py",
      "mimetype": "text/x-python",
      "name": "python",
      "nbconvert_exporter": "python",
      "pygments_lexer": "ipython3",
      "version": "3.11.5"
    },
    "colab": {
      "provenance": []
    }
  },
  "nbformat": 4,
  "nbformat_minor": 5
}